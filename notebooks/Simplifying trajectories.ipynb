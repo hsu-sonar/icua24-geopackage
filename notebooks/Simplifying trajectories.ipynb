{
 "cells": [
  {
   "cell_type": "markdown",
   "id": "4f95f710-b324-4e01-890b-8dc422815e55",
   "metadata": {},
   "source": [
    "SPDX-FileCopyrightText: SAS research group, HFT, Helmut Schmidt University"
   ]
  },
  {
   "cell_type": "markdown",
   "id": "acbf790d-631a-477e-bcc3-68b704e782f5",
   "metadata": {},
   "source": [
    "SPDX-License-Identifier: CC0-1.0"
   ]
  },
  {
   "cell_type": "markdown",
   "id": "6fbb8db0-d886-4208-b56d-61c2675de660",
   "metadata": {},
   "source": [
    "https://github.com/hsu-sonar/icua24-geopackage"
   ]
  },
  {
   "cell_type": "markdown",
   "id": "7dea314d-fade-4b5f-bb5a-270ee1c7e6ea",
   "metadata": {},
   "source": [
    "## Simplifying trajectories"
   ]
  },
  {
   "cell_type": "markdown",
   "id": "f8347cd8-292a-4e12-9179-e7939bc3576e",
   "metadata": {},
   "source": [
    "We typically do not want to store every INS point recorded by the sonar in the database. This notebook implements the trajectory simplification routine detailed in the paper."
   ]
  },
  {
   "cell_type": "code",
   "execution_count": null,
   "id": "b2199924-2e45-4a8a-b318-8afa636791d7",
   "metadata": {},
   "outputs": [],
   "source": [
    "import numpy as np\n",
    "from matplotlib import pyplot as plt\n",
    "\n",
    "%matplotlib ipympl"
   ]
  },
  {
   "cell_type": "markdown",
   "id": "a5df778b-3065-4709-ae7a-7fd0bf1efce2",
   "metadata": {},
   "source": [
    "## Generating a test trajectory"
   ]
  },
  {
   "cell_type": "markdown",
   "id": "08902586-e5d7-455e-a3b5-3c69863818bf",
   "metadata": {},
   "source": [
    "For test purposes, we will generate a trajectory using a random walk to model the non-ideal motion of a system. The first step is to set some parameters of the trajectory."
   ]
  },
  {
   "cell_type": "code",
   "execution_count": null,
   "id": "6957b421-dfbe-412a-8f1a-43bf2e985854",
   "metadata": {},
   "outputs": [],
   "source": [
    "length = 600  # Along-track length of the trajectory.\n",
    "dx = 0.15  # Along-track distance between INS samples\n",
    "walk_std = 0.1  # Standard deviation of the sideways steps in the walk. \n",
    "angle = 15  # Angle of trajectory from north towards east in degrees."
   ]
  },
  {
   "cell_type": "markdown",
   "id": "e82e7cc7-dac2-41be-9219-64c0b1cba5fd",
   "metadata": {},
   "source": [
    "Initialise a pseudo-random number generator. You can add a positive integer seed value to the function to get a repeatable trajectory."
   ]
  },
  {
   "cell_type": "code",
   "execution_count": null,
   "id": "ecc04028-a9d9-4a39-8c4f-2ce2e3af8696",
   "metadata": {},
   "outputs": [],
   "source": [
    "rng = np.random.default_rng()"
   ]
  },
  {
   "cell_type": "markdown",
   "id": "b31dfb6f-5646-41ae-9f9d-b93f1857795e",
   "metadata": {},
   "source": [
    "Generate the along-track position of each sample, centered at 0."
   ]
  },
  {
   "cell_type": "code",
   "execution_count": null,
   "id": "11c11238-6930-4c2d-9a7a-f8a21e0c71d2",
   "metadata": {},
   "outputs": [],
   "source": [
    "along_track = np.arange(-length / 2, length / 2 + 1e-6, dx)"
   ]
  },
  {
   "cell_type": "markdown",
   "id": "cf20ea8f-c887-4188-b290-0fb318b260b3",
   "metadata": {},
   "source": [
    "And then cumulatively sum a sequence of normally distributed variables to get the across-track position at each sample."
   ]
  },
  {
   "cell_type": "code",
   "execution_count": null,
   "id": "06218a3e-0f97-4623-bd08-ce54664759b8",
   "metadata": {},
   "outputs": [],
   "source": [
    "across_track = np.cumsum(rng.normal(0, walk_std, along_track.shape))"
   ]
  },
  {
   "cell_type": "markdown",
   "id": "d01d39a8-5457-4b09-8150-e4299f25cb1f",
   "metadata": {},
   "source": [
    "Rotate this into the eastings and northings with the desired heading."
   ]
  },
  {
   "cell_type": "code",
   "execution_count": null,
   "id": "b9c60dae-8b41-4433-8b0e-59dba1d8816e",
   "metadata": {},
   "outputs": [],
   "source": [
    "_angle = np.radians(angle)\n",
    "eastings = np.cos(_angle) * across_track + np.sin(_angle) * along_track\n",
    "northings = -np.sin(_angle) * across_track + np.cos(_angle) * along_track"
   ]
  },
  {
   "cell_type": "markdown",
   "id": "900576c5-edbd-498c-b5a5-d64ba31b3401",
   "metadata": {},
   "source": [
    "Plot this; the cross marks the start point."
   ]
  },
  {
   "cell_type": "code",
   "execution_count": null,
   "id": "f805fff2-aad9-41bb-980d-23ed2e53a3a1",
   "metadata": {},
   "outputs": [],
   "source": [
    "plt.figure()\n",
    "plt.plot(eastings, northings)\n",
    "plt.plot(eastings[0], northings[0], \"C0x\")\n",
    "plt.xlabel(\"Eastings (m)\")\n",
    "plt.ylabel(\"Northings (m)\");"
   ]
  },
  {
   "cell_type": "markdown",
   "id": "83858cf4-bcda-4347-bdbd-be09941573da",
   "metadata": {},
   "source": [
    "For ease of use, stack this into a 2d array."
   ]
  },
  {
   "cell_type": "code",
   "execution_count": null,
   "id": "8f22432a-dfcd-4cd7-b5d8-19a9acff7080",
   "metadata": {},
   "outputs": [],
   "source": [
    "ins_points = np.stack([eastings, northings], axis=1)"
   ]
  },
  {
   "cell_type": "markdown",
   "id": "826db27f-1488-4c8c-b900-3c76be311ad3",
   "metadata": {},
   "source": [
    "## Error metric"
   ]
  },
  {
   "cell_type": "markdown",
   "id": "c7bfdd66-52ff-459b-9fe3-29b8b367d7db",
   "metadata": {},
   "source": [
    "For our error metric, we will use the mean perpendicular distance between a set of points and the proposed line segment to replace them. The following function calculates this metric given the start and end points of the line, and the INS points to check. This uses a parametric representation to find the perpendicular points; see the *calculaitng line piece distances* notebook for more details."
   ]
  },
  {
   "cell_type": "code",
   "execution_count": null,
   "id": "b6922c10-cbca-45d9-a8c5-673e8c6cd115",
   "metadata": {},
   "outputs": [],
   "source": [
    "def mean_perpendicular_distance(start, end, points):\n",
    "    \"\"\"Find the mean perpendicular distance between a line and a set of points.\n",
    "\n",
    "    Parameters\n",
    "    ----------\n",
    "    start, end : numpy.ndarray\n",
    "        The start and end point of the line.\n",
    "    points : numpy.ndarray\n",
    "        An Nx2 array of the points to calculate the distance from.\n",
    "\n",
    "    Returns\n",
    "    -------\n",
    "    mean_distance : float\n",
    "    \n",
    "    \"\"\"\n",
    "    direction_vector = end - start\n",
    "    offset_vectors = points - start\n",
    "\n",
    "    t = np.sum(direction_vector * offset_vectors, axis=-1) / np.sum(\n",
    "        direction_vector**2, axis=-1\n",
    "    )\n",
    "\n",
    "    P = start + t[:, np.newaxis] * direction_vector\n",
    "\n",
    "    d = np.linalg.norm(P - points, axis=-1)\n",
    "\n",
    "    return np.mean(d)"
   ]
  },
  {
   "cell_type": "markdown",
   "id": "14e04107-6cc8-4ded-a7d6-a830c14ded48",
   "metadata": {},
   "source": [
    "## Simplification"
   ]
  },
  {
   "cell_type": "markdown",
   "id": "cbd4039f-73cc-4bb7-82d9-0ffefb51e7f7",
   "metadata": {},
   "source": [
    "First, we need to calculate $L$, the cumulative distance travelled by the sonar to reach each point."
   ]
  },
  {
   "cell_type": "code",
   "execution_count": null,
   "id": "0a3a2300-0f06-42f5-b3a2-e392d4b7f2ac",
   "metadata": {},
   "outputs": [],
   "source": [
    "point_to_point = np.linalg.norm(np.diff(ins_points, axis=0), axis=1)\n",
    "\n",
    "cumulative_distance = np.zeros_like(eastings)\n",
    "cumulative_distance[1:] = np.cumsum(point_to_point)"
   ]
  },
  {
   "cell_type": "markdown",
   "id": "f9f63e94-1a50-40c1-a980-e58c78c26198",
   "metadata": {},
   "source": [
    "Then we set the bounds of $L$ for each segment, the reduction factor $\\alpha$ and our maximum error threshold."
   ]
  },
  {
   "cell_type": "code",
   "execution_count": null,
   "id": "821be1ec-f94e-4e23-8b44-bb6a0c2a2d60",
   "metadata": {},
   "outputs": [],
   "source": [
    "L_max = 50.0\n",
    "L_min = 10.0\n",
    "alpha = 0.8\n",
    "epsilon_max = 0.5"
   ]
  },
  {
   "cell_type": "markdown",
   "id": "9560d948-6b95-475c-bb5c-d7ac748e4726",
   "metadata": {},
   "source": [
    "The following cell implements the simplification for the first segment."
   ]
  },
  {
   "cell_type": "code",
   "execution_count": null,
   "id": "c2c159bb-cb27-48c4-9269-c310b27eff38",
   "metadata": {},
   "outputs": [],
   "source": [
    "# Index of the INS point which starts the segment.\n",
    "start_index = 0\n",
    "\n",
    "# Current segment length.\n",
    "L = L_max\n",
    "\n",
    "# Loop until we have determined the segment.\n",
    "while True:\n",
    "    # Find indices of points within the L metres after the start.\n",
    "    from_start = cumulative_distance - cumulative_distance[start_index]\n",
    "    within_L = np.where((from_start > 0) & (from_start <= L))[0]\n",
    "\n",
    "    # Split into the index of the proposed end, and the points inbetween.\n",
    "    end_index = within_L[-1]\n",
    "    point_indices = within_L[:-1]\n",
    "\n",
    "    # Get these points.\n",
    "    start = ins_points[start_index]\n",
    "    end = ins_points[end_index]\n",
    "    points = ins_points[point_indices]\n",
    "\n",
    "    # Calculate the error metric.\n",
    "    epsilon = mean_perpendicular_distance(start, end, points)\n",
    "\n",
    "    # Below the threshold: we have a good segment.\n",
    "    if epsilon <= epsilon_max:\n",
    "        break\n",
    "\n",
    "    # Reached our minimum length.\n",
    "    if np.isclose(L, L_min):\n",
    "        break\n",
    "\n",
    "    # Reduce the length, clipping to the minimum, and try again.\n",
    "    L *= alpha\n",
    "    if L < L_min:\n",
    "        L = L_min"
   ]
  },
  {
   "cell_type": "markdown",
   "id": "f519c90f-0d07-44ae-ae95-89ad29779c87",
   "metadata": {},
   "source": [
    "We can then plot this first segment and the original INS points it replaces."
   ]
  },
  {
   "cell_type": "code",
   "execution_count": null,
   "id": "d28aef68-712b-4c14-9c30-b929865a58c3",
   "metadata": {},
   "outputs": [],
   "source": [
    "plt.figure()\n",
    "plt.scatter(*points.T, alpha=0.4, ec=\"none\")\n",
    "plt.plot([start[0], end[0]], [start[1], end[1]], \"C1o-\")\n",
    "plt.xlabel(\"Eastings (m)\")\n",
    "plt.ylabel(\"Northings (m)\");"
   ]
  },
  {
   "cell_type": "markdown",
   "id": "fd23e9f3-67c0-4668-911e-c118dd962fdf",
   "metadata": {},
   "source": [
    "We can then put another loop around this to find all segments. This forms the basis of the simplification module of the library."
   ]
  },
  {
   "cell_type": "code",
   "execution_count": null,
   "id": "a812a21a-3966-4cc2-94ec-2f54bfb5b3ba",
   "metadata": {},
   "outputs": [],
   "source": [
    "# List of points in the simplified trajectory.\n",
    "simplified = [ins_points[0]]\n",
    "\n",
    "# Steps we took to find it.\n",
    "steps = []\n",
    "\n",
    "# Initialise some variables.\n",
    "start_index = 0\n",
    "segment_number = 1\n",
    "\n",
    "# Loop until complete.\n",
    "while True:\n",
    "    # Start with our maximum length.\n",
    "    trial_number = 1\n",
    "    L = L_max\n",
    "    while True:\n",
    "        # Find indices of points within the L metres after the start.\n",
    "        from_start = cumulative_distance - cumulative_distance[start_index]\n",
    "        within_L = np.where((from_start > 0) & (from_start <= L))[0]\n",
    "\n",
    "        # Split into the index of the proposed end, and the points inbetween.\n",
    "        end_index = within_L[-1]\n",
    "        point_indices = within_L[:-1]\n",
    "\n",
    "        # Get these points.\n",
    "        start = ins_points[start_index]\n",
    "        end = ins_points[end_index]\n",
    "        points = ins_points[point_indices]\n",
    "    \n",
    "        # Calculate the error metric.\n",
    "        epsilon = mean_perpendicular_distance(start, end, points)\n",
    "        steps.append([segment_number, trial_number, L, epsilon])\n",
    "        trial_number += 1\n",
    "    \n",
    "        # Below the threshold: we have a good segment.\n",
    "        if epsilon <= epsilon_max:\n",
    "            break\n",
    "    \n",
    "        # Reached our minimum length.\n",
    "        if np.isclose(L, L_min):\n",
    "            break\n",
    "    \n",
    "        # Reduce the length, clipping to the minimum, and try again.   \n",
    "        L *= alpha\n",
    "        if L < L_min:\n",
    "            L = L_min\n",
    "\n",
    "    # Finished this segment.\n",
    "    simplified.append(end)\n",
    "\n",
    "    # Start the next segment at the end of this one.\n",
    "    start_index = end_index\n",
    "    segment_number += 1\n",
    "\n",
    "    # If we are closer than the minimum distance to the end, we can just take the end\n",
    "    # point and stop.\n",
    "    if (cumulative_distance[-1] - cumulative_distance[start_index]) < L_min:\n",
    "        simplified.append(ins_points[-1])\n",
    "        break\n",
    "\n",
    "# Turn the list of segment points into an array.\n",
    "simplified = np.array(simplified)"
   ]
  },
  {
   "cell_type": "markdown",
   "id": "712c55c0-5c77-49f7-b0dd-226eb52dd842",
   "metadata": {},
   "source": [
    "We can see how many segments we ended up with:"
   ]
  },
  {
   "cell_type": "code",
   "execution_count": null,
   "id": "93e6316d-2b1d-492c-82fe-1b35ded96750",
   "metadata": {},
   "outputs": [],
   "source": [
    "simplified.shape[0]"
   ]
  },
  {
   "cell_type": "markdown",
   "id": "fcd1456d-596e-4e59-a82c-76e64b08950f",
   "metadata": {},
   "source": [
    "And how many steps it took to get there."
   ]
  },
  {
   "cell_type": "code",
   "execution_count": null,
   "id": "dd1fbf05-017e-4092-8bc7-b44fd4b0599e",
   "metadata": {},
   "outputs": [],
   "source": [
    "len(steps)"
   ]
  },
  {
   "cell_type": "markdown",
   "id": "d8f8cdd0-f982-4320-b69c-4a0e45a2bdc2",
   "metadata": {},
   "source": [
    "The steps variable lists all these trials; each entry contains the segment number, the trial number, the segment length being tested, and the value of the error metric."
   ]
  },
  {
   "cell_type": "code",
   "execution_count": null,
   "id": "49dd0e9c-d5d1-4f02-8af0-90509d771a74",
   "metadata": {},
   "outputs": [],
   "source": [
    "steps"
   ]
  },
  {
   "cell_type": "markdown",
   "id": "79d9171a-9e03-4c11-84ef-29ff083cf475",
   "metadata": {},
   "source": [
    "We can now plot the original trajectory and the simplified version."
   ]
  },
  {
   "cell_type": "code",
   "execution_count": null,
   "id": "c7a97df8-0de5-450d-8da6-756a8847962f",
   "metadata": {},
   "outputs": [],
   "source": [
    "plt.figure()\n",
    "plt.plot(*ins_points.T, \"C0o\", alpha=0.4, markeredgecolor=\"none\", markersize=3)\n",
    "plt.plot(simplified[:, 0], simplified[:, 1], \"C1-o\", markersize=4)\n",
    "plt.xlabel(\"Eastings (m)\")\n",
    "plt.ylabel(\"Northings (m)\");"
   ]
  }
 ],
 "metadata": {
  "kernelspec": {
   "display_name": "ICUA24 database paper",
   "language": "python",
   "name": "icuadb"
  },
  "language_info": {
   "codemirror_mode": {
    "name": "ipython",
    "version": 3
   },
   "file_extension": ".py",
   "mimetype": "text/x-python",
   "name": "python",
   "nbconvert_exporter": "python",
   "pygments_lexer": "ipython3",
   "version": "3.12.3"
  }
 },
 "nbformat": 4,
 "nbformat_minor": 5
}
