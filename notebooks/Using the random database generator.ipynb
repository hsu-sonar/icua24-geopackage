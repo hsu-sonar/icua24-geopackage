{
 "cells": [
  {
   "cell_type": "markdown",
   "id": "51c9f7e9-6137-4c05-96d2-740e5ac5d154",
   "metadata": {},
   "source": [
    "SPDX-FileCopyrightText: SAS research group, HFT, Helmut Schmidt University"
   ]
  },
  {
   "cell_type": "markdown",
   "id": "e9e790d9-af0a-46ad-8132-013440b069fe",
   "metadata": {},
   "source": [
    "SPDX-License-Identifier: CC0-1.0"
   ]
  },
  {
   "cell_type": "markdown",
   "id": "fb7097ee-ebe4-49eb-a3e4-02f76dcc9d33",
   "metadata": {},
   "source": [
    "https://github.com/hsu-sonar/icua24-geopackage"
   ]
  },
  {
   "cell_type": "markdown",
   "id": "3559c17c-8e45-4450-8ae0-91c731e4c6a7",
   "metadata": {},
   "source": [
    "# Using the random database generator"
   ]
  },
  {
   "cell_type": "markdown",
   "id": "67cd3240-7ac7-4e47-b57c-eaf62110b59f",
   "metadata": {},
   "source": [
    "The `random_gpkg` library module contains a function for generating a GeoPackage database with random data. This is based around the concept of a mission group, a collection of missions at a location where most missions will repeat the same profile, but some will differ."
   ]
  },
  {
   "cell_type": "code",
   "execution_count": null,
   "id": "bb54b9bc-71bd-482c-998a-cdc1dc0efffb",
   "metadata": {},
   "outputs": [],
   "source": [
    "# Add the library path so we can import. Adjust this path if you did not launch Jupyter\n",
    "# from the notebooks directory of the repository.\n",
    "import sys\n",
    "sys.path.insert(0, \"../library\")"
   ]
  },
  {
   "cell_type": "code",
   "execution_count": null,
   "id": "16230273-b8a4-4c81-89a9-7c1c92ecd32d",
   "metadata": {},
   "outputs": [],
   "source": [
    "import random_gpkg\n",
    "\n",
    "from fudgeo.geopkg import GeoPackage\n",
    "from matplotlib import pyplot as plt\n",
    "\n",
    "%matplotlib ipympl"
   ]
  },
  {
   "cell_type": "markdown",
   "id": "92bf46c1-65f0-468f-b712-efa73ebafb9c",
   "metadata": {},
   "source": [
    "## Generation settings"
   ]
  },
  {
   "cell_type": "markdown",
   "id": "60c8a24b-32ee-4d08-8585-7a01643d4641",
   "metadata": {},
   "source": [
    "The settings for the generation are given in a dictionary. The library provides a dictionary with default settings which you can customise."
   ]
  },
  {
   "cell_type": "code",
   "execution_count": null,
   "id": "eae8963e-4209-4c41-9494-8089c68946a3",
   "metadata": {},
   "outputs": [],
   "source": [
    "settings = random_gpkg.get_default_settings()"
   ]
  },
  {
   "cell_type": "code",
   "execution_count": null,
   "id": "94068c58-96d8-48a6-93fb-23c501e60a88",
   "metadata": {},
   "outputs": [],
   "source": [
    "settings"
   ]
  },
  {
   "cell_type": "markdown",
   "id": "bd2a9e07-f35e-487c-a3e5-fc584f680795",
   "metadata": {},
   "source": [
    "See the docstring of the function for a description of each setting."
   ]
  },
  {
   "cell_type": "code",
   "execution_count": null,
   "id": "991b8b2c-d9ad-49db-879a-73c36cc39ddb",
   "metadata": {},
   "outputs": [],
   "source": [
    "random_gpkg.get_default_settings?"
   ]
  },
  {
   "cell_type": "markdown",
   "id": "1fd89921-3b69-436c-9f24-e550beafd84b",
   "metadata": {},
   "source": [
    "## Database generation"
   ]
  },
  {
   "cell_type": "markdown",
   "id": "30421bba-ac5a-4747-9524-bfaefe94d837",
   "metadata": {},
   "source": [
    "We can then pass these settings to the `generate_random_gpkg` function along with the filename and the desired progress bar. You can set this to `\"terminal\"` if you are calling the function from a terminal, or to `None` if you don't want a progress bar."
   ]
  },
  {
   "cell_type": "code",
   "execution_count": null,
   "id": "002a1aae-a2ba-437b-957a-42b61029a0d9",
   "metadata": {},
   "outputs": [],
   "source": [
    "settings[\"CRS\"] = 32632\n",
    "random_gpkg.generate_random_gpkg(\"random.gpkg\", settings, overwrite=True, progress=\"notebook\")"
   ]
  },
  {
   "cell_type": "markdown",
   "id": "104d2ae5-7d79-44e2-a9bf-a4a3ccdb01d2",
   "metadata": {},
   "source": [
    "## Using the database"
   ]
  },
  {
   "cell_type": "markdown",
   "id": "a09edbb4-e892-4f89-b0cd-3a9a79818f6d",
   "metadata": {
    "execution": {
     "iopub.execute_input": "2024-06-17T14:16:13.578689Z",
     "iopub.status.busy": "2024-06-17T14:16:13.578387Z",
     "iopub.status.idle": "2024-06-17T14:16:13.583849Z",
     "shell.execute_reply": "2024-06-17T14:16:13.582820Z",
     "shell.execute_reply.started": "2024-06-17T14:16:13.578663Z"
    }
   },
   "source": [
    "You can now load the database in any software which supports it. For example, you could use the open-source GIS software [QGIS](https://www.qgis.org/). Below, we use the `fudgeo` library to read the database."
   ]
  },
  {
   "cell_type": "code",
   "execution_count": null,
   "id": "4e925bd5-9ef0-4171-8138-7e05ebc41c92",
   "metadata": {},
   "outputs": [],
   "source": [
    "gpkg = GeoPackage(\"random.gpkg\")"
   ]
  },
  {
   "cell_type": "markdown",
   "id": "8b5d1b2b-d4e3-4f38-b919-4a207aa84a16",
   "metadata": {},
   "source": [
    "Pull out the trajectory and start time of one leg."
   ]
  },
  {
   "cell_type": "code",
   "execution_count": null,
   "id": "7aedafe9-55fb-4b24-84c4-5045a5926e6b",
   "metadata": {},
   "outputs": [],
   "source": [
    "cursor = gpkg.connection.execute(\"select trajectory, leg_start_time from legs where leg_id=14;\")\n",
    "trajectory, start = cursor.fetchone()"
   ]
  },
  {
   "cell_type": "markdown",
   "id": "e3492faa-27e0-4134-82bc-9da9ff7ff813",
   "metadata": {},
   "source": [
    "And plot the trajectory (note that this assumes you generated the database in Cartesian coordinates; the plot will work for geographic, but the axis labels will be wrong)."
   ]
  },
  {
   "cell_type": "code",
   "execution_count": null,
   "id": "cce0d65a-0ea8-46ed-aaa8-2031c883e835",
   "metadata": {},
   "outputs": [],
   "source": [
    "plt.figure()\n",
    "plt.plot(*trajectory.coordinates.T, \"-o\")\n",
    "plt.title(start)\n",
    "plt.xlabel(\"Eastings\")\n",
    "plt.ylabel(\"Northings\");"
   ]
  }
 ],
 "metadata": {
  "kernelspec": {
   "display_name": "ICUA24 database paper",
   "language": "python",
   "name": "icuadb"
  },
  "language_info": {
   "codemirror_mode": {
    "name": "ipython",
    "version": 3
   },
   "file_extension": ".py",
   "mimetype": "text/x-python",
   "name": "python",
   "nbconvert_exporter": "python",
   "pygments_lexer": "ipython3",
   "version": "3.12.3"
  }
 },
 "nbformat": 4,
 "nbformat_minor": 5
}
